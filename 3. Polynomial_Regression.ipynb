{
  "nbformat": 4,
  "nbformat_minor": 0,
  "metadata": {
    "colab": {
      "name": "3.  Polynomial Regression.ipynb",
      "provenance": [],
      "authorship_tag": "ABX9TyN3nGW45GZrHJSVL4t2OeVJ",
      "include_colab_link": true
    },
    "kernelspec": {
      "name": "python3",
      "display_name": "Python 3"
    }
  },
  "cells": [
    {
      "cell_type": "markdown",
      "metadata": {
        "id": "view-in-github",
        "colab_type": "text"
      },
      "source": [
        "<a href=\"https://colab.research.google.com/github/MainakRepositor/ML-Algorithms/blob/master/3_Polynomial_Regression.ipynb\" target=\"_parent\"><img src=\"https://colab.research.google.com/assets/colab-badge.svg\" alt=\"Open In Colab\"/></a>"
      ]
    },
    {
      "cell_type": "markdown",
      "metadata": {
        "id": "ydJ05cj6s230"
      },
      "source": [
        "# POLYNOMIAL REGRESSION\n",
        "\n",
        "<hr>"
      ]
    },
    {
      "cell_type": "markdown",
      "metadata": {
        "id": "e--qAx7ns462"
      },
      "source": [
        "## Explanation of concept:\n",
        "### Polynomial regression is a machine learning model, belonging to the family of regressions. As the name suggests, a polynomial regression deals with a polynomial expression. So, we can accept multiple variables as input (multiple xs), along with their power with respect to the depenedent parameter y.\n",
        "\n",
        "### For example, let a dependent quantity y depend on 4 independent parameters : x0,x1,x2 and x3. But, unlike multivariate cases, some independent parameters might not have a direct linear relation with y. y can even have a quadratic or cubic relation with any of the xs. So, for these types of variables, we can use a polynomial regression.\n",
        "\n",
        "### Hence, technically speaking, Polynomial regression = Multivariate regression * a power determined by relation."
      ]
    },
    {
      "cell_type": "markdown",
      "metadata": {
        "id": "GNE43wESs5G-"
      },
      "source": [
        "## Mathematical Notation :\n",
        "\n",
        "<img src=\"https://miro.medium.com/max/1200/1*w8C1x1xeQdI7MDoHJXA6ZQ.png\">"
      ]
    },
    {
      "cell_type": "markdown",
      "metadata": {
        "id": "AtYkhBcls5Se"
      },
      "source": [
        "## Working of Polynomial Regression :\n",
        "(ignore the graph parameters, just for model purpose only)\n",
        "\n",
        "<img src=\"https://camo.githubusercontent.com/d82416364e7916546886f94027e2652d3247e8ab/687474703a2f2f6572696b6c696e6465726e6f72656e2e73652f696d616765732f705f7265672e676966\">"
      ]
    },
    {
      "cell_type": "markdown",
      "metadata": {
        "id": "c7zZb5TJs5dP"
      },
      "source": [
        "## Building the ML model:"
      ]
    },
    {
      "cell_type": "markdown",
      "metadata": {
        "id": "ECFQ1kE0s5np"
      },
      "source": [
        "## 1. Importing necessary libraries"
      ]
    },
    {
      "cell_type": "code",
      "metadata": {
        "id": "dKGVAtVetsTN",
        "outputId": "9323df54-fb39-412c-c1e3-f35eff7eb9c1",
        "colab": {
          "base_uri": "https://localhost:8080/",
          "height": 34
        }
      },
      "source": [
        "import numpy as np\n",
        "import pandas as pd\n",
        "import matplotlib.pyplot as plt\n",
        "%matplotlib inline\n",
        "print(\"Necessary packages included successfully!\")"
      ],
      "execution_count": 1,
      "outputs": [
        {
          "output_type": "stream",
          "text": [
            "Necessary packages included successfully!\n"
          ],
          "name": "stdout"
        }
      ]
    },
    {
      "cell_type": "markdown",
      "metadata": {
        "id": "QrOHgFoct0_C"
      },
      "source": [
        "## 2. Importing the dataset"
      ]
    },
    {
      "cell_type": "code",
      "metadata": {
        "id": "R_j0ONeStvTW",
        "outputId": "da30b20b-b4eb-40ed-cc91-37fb3f61bad1",
        "colab": {
          "base_uri": "https://localhost:8080/",
          "height": 343
        }
      },
      "source": [
        "url = 'https://raw.githubusercontent.com/MainakRepositor/Datasets-/master/Position_Salaries.csv'\n",
        "df = pd.read_csv(url,error_bad_lines=False)\n",
        "df"
      ],
      "execution_count": 2,
      "outputs": [
        {
          "output_type": "execute_result",
          "data": {
            "text/html": [
              "<div>\n",
              "<style scoped>\n",
              "    .dataframe tbody tr th:only-of-type {\n",
              "        vertical-align: middle;\n",
              "    }\n",
              "\n",
              "    .dataframe tbody tr th {\n",
              "        vertical-align: top;\n",
              "    }\n",
              "\n",
              "    .dataframe thead th {\n",
              "        text-align: right;\n",
              "    }\n",
              "</style>\n",
              "<table border=\"1\" class=\"dataframe\">\n",
              "  <thead>\n",
              "    <tr style=\"text-align: right;\">\n",
              "      <th></th>\n",
              "      <th>Position</th>\n",
              "      <th>Level</th>\n",
              "      <th>Salary</th>\n",
              "    </tr>\n",
              "  </thead>\n",
              "  <tbody>\n",
              "    <tr>\n",
              "      <th>0</th>\n",
              "      <td>Business Analyst</td>\n",
              "      <td>1</td>\n",
              "      <td>45000</td>\n",
              "    </tr>\n",
              "    <tr>\n",
              "      <th>1</th>\n",
              "      <td>Junior Consultant</td>\n",
              "      <td>2</td>\n",
              "      <td>50000</td>\n",
              "    </tr>\n",
              "    <tr>\n",
              "      <th>2</th>\n",
              "      <td>Senior Consultant</td>\n",
              "      <td>3</td>\n",
              "      <td>60000</td>\n",
              "    </tr>\n",
              "    <tr>\n",
              "      <th>3</th>\n",
              "      <td>Manager</td>\n",
              "      <td>4</td>\n",
              "      <td>80000</td>\n",
              "    </tr>\n",
              "    <tr>\n",
              "      <th>4</th>\n",
              "      <td>Country Manager</td>\n",
              "      <td>5</td>\n",
              "      <td>110000</td>\n",
              "    </tr>\n",
              "    <tr>\n",
              "      <th>5</th>\n",
              "      <td>Region Manager</td>\n",
              "      <td>6</td>\n",
              "      <td>150000</td>\n",
              "    </tr>\n",
              "    <tr>\n",
              "      <th>6</th>\n",
              "      <td>Partner</td>\n",
              "      <td>7</td>\n",
              "      <td>200000</td>\n",
              "    </tr>\n",
              "    <tr>\n",
              "      <th>7</th>\n",
              "      <td>Senior Partner</td>\n",
              "      <td>8</td>\n",
              "      <td>300000</td>\n",
              "    </tr>\n",
              "    <tr>\n",
              "      <th>8</th>\n",
              "      <td>C-level</td>\n",
              "      <td>9</td>\n",
              "      <td>500000</td>\n",
              "    </tr>\n",
              "    <tr>\n",
              "      <th>9</th>\n",
              "      <td>CEO</td>\n",
              "      <td>10</td>\n",
              "      <td>1000000</td>\n",
              "    </tr>\n",
              "  </tbody>\n",
              "</table>\n",
              "</div>"
            ],
            "text/plain": [
              "            Position  Level   Salary\n",
              "0   Business Analyst      1    45000\n",
              "1  Junior Consultant      2    50000\n",
              "2  Senior Consultant      3    60000\n",
              "3            Manager      4    80000\n",
              "4    Country Manager      5   110000\n",
              "5     Region Manager      6   150000\n",
              "6            Partner      7   200000\n",
              "7     Senior Partner      8   300000\n",
              "8            C-level      9   500000\n",
              "9                CEO     10  1000000"
            ]
          },
          "metadata": {
            "tags": []
          },
          "execution_count": 2
        }
      ]
    },
    {
      "cell_type": "markdown",
      "metadata": {
        "id": "-Zdxt7ucuAnm"
      },
      "source": [
        "### The dataset is preprocessed and contains no Null data. So we can safely proceed towards the next step"
      ]
    },
    {
      "cell_type": "markdown",
      "metadata": {
        "id": "E6tNDhacuDxa"
      },
      "source": [
        "## 3. Building the model"
      ]
    },
    {
      "cell_type": "markdown",
      "metadata": {
        "id": "C-dxwG5VuI5S"
      },
      "source": [
        "### In this section, we will create a simple linear regression model and a polynomial regression model. This will help us analyse the advantage of the later over the first"
      ]
    },
    {
      "cell_type": "code",
      "metadata": {
        "id": "baboIIwJt9h4"
      },
      "source": [
        "X = df.iloc[:,1].values.reshape(-1,1)\n",
        "y = df.iloc[:,-1].values"
      ],
      "execution_count": 3,
      "outputs": []
    },
    {
      "cell_type": "markdown",
      "metadata": {
        "id": "MakHTepnuPi3"
      },
      "source": [
        "### Making the linear regression model"
      ]
    },
    {
      "cell_type": "code",
      "metadata": {
        "id": "c2bEVi3PuL5z",
        "outputId": "2cc96578-576f-4f7b-e172-82ecabacc69b",
        "colab": {
          "base_uri": "https://localhost:8080/",
          "height": 34
        }
      },
      "source": [
        "from sklearn.linear_model import LinearRegression\n",
        "lin_reg = LinearRegression()\n",
        "lin_reg.fit(X, y)"
      ],
      "execution_count": 4,
      "outputs": [
        {
          "output_type": "execute_result",
          "data": {
            "text/plain": [
              "LinearRegression(copy_X=True, fit_intercept=True, n_jobs=None, normalize=False)"
            ]
          },
          "metadata": {
            "tags": []
          },
          "execution_count": 4
        }
      ]
    },
    {
      "cell_type": "markdown",
      "metadata": {
        "id": "77SXYnLSuWbP"
      },
      "source": [
        "## Making the polynomial regression mode"
      ]
    },
    {
      "cell_type": "code",
      "metadata": {
        "id": "luedppZeuSgS",
        "outputId": "1b8db4ad-a612-40f5-9ec0-e4b64a1fa75a",
        "colab": {
          "base_uri": "https://localhost:8080/",
          "height": 34
        }
      },
      "source": [
        "# Training the Polynomial Regression model on the whole dataset\n",
        "from sklearn.preprocessing import PolynomialFeatures\n",
        "poly_reg = PolynomialFeatures(degree = 4)\n",
        "X_poly = poly_reg.fit_transform(X)\n",
        "lin_reg_2 = LinearRegression()\n",
        "lin_reg_2.fit(X_poly, y)"
      ],
      "execution_count": 5,
      "outputs": [
        {
          "output_type": "execute_result",
          "data": {
            "text/plain": [
              "LinearRegression(copy_X=True, fit_intercept=True, n_jobs=None, normalize=False)"
            ]
          },
          "metadata": {
            "tags": []
          },
          "execution_count": 5
        }
      ]
    },
    {
      "cell_type": "code",
      "metadata": {
        "id": "SmgLwUSauZbd",
        "outputId": "e648da66-04f9-4f10-b683-dcbcb69de2ea",
        "colab": {
          "base_uri": "https://localhost:8080/",
          "height": 503
        }
      },
      "source": [
        "# Visualising the Linear Regression results\n",
        "plt.figure(figsize=(20,7))\n",
        "plt.scatter(X, y, color = 'red')\n",
        "plt.plot(X, lin_reg.predict(X), color = 'blue')\n",
        "plt.title('Truth or Bluff (Linear Regression)\\n',size=24)\n",
        "plt.xlabel('Position Level',size=18)\n",
        "plt.ylabel('Salary',size=18)\n",
        "plt.show()"
      ],
      "execution_count": 6,
      "outputs": [
        {
          "output_type": "display_data",
          "data": {
            "image/png": "[encoded data removed]",
            "text/plain": [
              "<Figure size 1440x504 with 1 Axes>"
            ]
          },
          "metadata": {
            "tags": [],
            "needs_background": "light"
          }
        }
      ]
    },
    {
      "cell_type": "code",
      "metadata": {
        "id": "AOECWfhaucJg",
        "outputId": "26ebac96-824d-4514-ab50-bdd95cb6b56a",
        "colab": {
          "base_uri": "https://localhost:8080/",
          "height": 503
        }
      },
      "source": [
        "# Visualising the Polynomial Regression results\n",
        "plt.figure(figsize=(20,7))\n",
        "plt.scatter(X, y, color = 'red')\n",
        "plt.plot(X, lin_reg_2.predict(poly_reg.fit_transform(X)), color = 'blue')\n",
        "plt.title('Truth or Bluff (Polynomial Regression)\\n',size=24)\n",
        "plt.xlabel('Position level',size=18)\n",
        "plt.ylabel('Salary',size=18)\n",
        "plt.show()"
      ],
      "execution_count": 7,
      "outputs": [
        {
          "output_type": "display_data",
          "data": {
            "image/png": "[encoded data removed]",
            "text/plain": [
              "<Figure size 1440x504 with 1 Axes>"
            ]
          },
          "metadata": {
            "tags": [],
            "needs_background": "light"
          }
        }
      ]
    },
    {
      "cell_type": "markdown",
      "metadata": {
        "id": "6WKj94BLuhy6"
      },
      "source": [
        "### Thus we can see how Polynomial regression fits polynomial data better than Simple linear regressions"
      ]
    },
    {
      "cell_type": "markdown",
      "metadata": {
        "id": "6iNUpncculZy"
      },
      "source": [
        "## Pros or Advantages\n",
        "### 1.Useful for datasets with polynomial patterns.\n",
        "### 2.Fits very well with the degree of polynomial feature.\n",
        "### 3.Useful in solving biological and economical data where a particular polynomial pattern is generally noticed."
      ]
    },
    {
      "cell_type": "markdown",
      "metadata": {
        "id": "DApCuT_PulGM"
      },
      "source": [
        "## Cons or Disdvantages\n",
        "### 1.Polynomial features need to set manually which makes it difficult to choose a good degree.\n",
        "### 2.Not suitable for logarithmic, exponential or trigonometric patterns in data.\n",
        "### 3.Slower in runtime, than the simple linear regression."
      ]
    },
    {
      "cell_type": "code",
      "metadata": {
        "id": "kG_MFAqGu0au"
      },
      "source": [
        ""
      ],
      "execution_count": null,
      "outputs": []
    }
  ]
}
