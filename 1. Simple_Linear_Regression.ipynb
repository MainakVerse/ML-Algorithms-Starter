{
  "nbformat": 4,
  "nbformat_minor": 0,
  "metadata": {
    "colab": {
      "name": "Simple Linear Regression.ipynb",
      "provenance": [],
      "authorship_tag": "ABX9TyOx30CaB6vN/m5FmN7K4gPa",
      "include_colab_link": true
    },
    "kernelspec": {
      "name": "python3",
      "display_name": "Python 3"
    }
  },
  "cells": [
    {
      "cell_type": "markdown",
      "metadata": {
        "id": "view-in-github",
        "colab_type": "text"
      },
      "source": [
        "<a href=\"https://colab.research.google.com/github/MainakRepositor/ML-Algorithms/blob/master/Simple_Linear_Regression.ipynb\" target=\"_parent\"><img src=\"https://colab.research.google.com/assets/colab-badge.svg\" alt=\"Open In Colab\"/></a>"
      ]
    },
    {
      "cell_type": "markdown",
      "metadata": {
        "id": "4Nhw2minz7gC"
      },
      "source": [
        "# SIMPLE LINEAR REGRESSION"
      ]
    },
    {
      "cell_type": "markdown",
      "metadata": {
        "id": "0e33O4ZI0Agm"
      },
      "source": [
        "## Simple Linear Regression is a machine learning model, falling under the regression category. It is a way by which one can predict results depending on the slope of the graph. In this process, the machine (here, our computer) automatically decided the best gradient or slope which resembles the a relation between the corresponding x and y values."
      ]
    },
    {
      "cell_type": "markdown",
      "metadata": {
        "id": "R0wr4g9p0JGB"
      },
      "source": [
        "## Mathematical Explanation :\n",
        "<img src=\"https://www.dr-asims-anatomy-cafe.com/wp-content/uploads/2015/12/simple-linear-regression-equation-624x468.jpg\" width=50%>"
      ]
    },
    {
      "cell_type": "markdown",
      "metadata": {
        "id": "NPlaxay-0ZEW"
      },
      "source": [
        "## The purpose of the slope is to set a standard as per which these points can be aligned. The graph in which the slope covers maximum of the points is called a best-fit graph. But for the this process, we need to try out many slopes and the method is tedious. Linear regression makes the task easy. It finds the best fit graph for us so that we can use it for further works."
      ]
    },
    {
      "cell_type": "markdown",
      "metadata": {
        "id": "MZfEYdiK0cge"
      },
      "source": [
        "<img src=\"https://cdn-images-1.medium.com/max/640/1*eeIvlwkMNG1wSmj3FR6M2g.gif\" width=60%>"
      ]
    },
    {
      "cell_type": "markdown",
      "metadata": {
        "id": "LMm19CyN0qjP"
      },
      "source": [
        "## Working principle :\n",
        "The working principle can be listed down in these steps:-\n",
        "<p>i. accept the x and y values from dataset.</p>\n",
        "<p>ii. break them into train and test set for verification of model.</p>\n",
        "<p>iii.fit the x and y in regressor. This provides us the slope.</p>\n",
        "<p>iv. now using this slope, predict the values of y from the x inputs.</p>\n",
        "<p>We will see the same in our model as we proceed through steps</p>"
      ]
    },
    {
      "cell_type": "markdown",
      "metadata": {
        "id": "HuRh3U5j1BcJ"
      },
      "source": [
        "## 1. Importing necessary libraries"
      ]
    },
    {
      "cell_type": "code",
      "metadata": {
        "id": "5Whq7J_4z0up",
        "outputId": "8149f9b0-9967-44fc-bdbe-9e0e0000d745",
        "colab": {
          "base_uri": "https://localhost:8080/",
          "height": 34
        }
      },
      "source": [
        "import pandas as pd\n",
        "import numpy as np\n",
        "import matplotlib.pyplot as plt\n",
        "%matplotlib inline\n",
        "print(\"All packages are included successfully!\")"
      ],
      "execution_count": 1,
      "outputs": [
        {
          "output_type": "stream",
          "text": [
            "All packages are included successfully!\n"
          ],
          "name": "stdout"
        }
      ]
    },
    {
      "cell_type": "markdown",
      "metadata": {
        "id": "no0QNgUG1cN5"
      },
      "source": [
        "## 2. Importing the dataset"
      ]
    },
    {
      "cell_type": "code",
      "metadata": {
        "id": "3OAjOPXO1F9Y",
        "outputId": "c8ba9086-f5a5-4b73-b94c-bdd8aef4ac09",
        "colab": {
          "base_uri": "https://localhost:8080/",
          "height": 230
        }
      },
      "source": [
        "url = 'https://raw.githubusercontent.com/MainakRepositor/Datasets-/master/Salary_Data.csv'\n",
        "df = pd.read_csv(url,error_bad_lines=False)\n",
        "print(\"Displaying the top 5 rows of the dataset :\\n\")\n",
        "df.head()"
      ],
      "execution_count": 4,
      "outputs": [
        {
          "output_type": "stream",
          "text": [
            "Displaying the top 5 rows of the dataset :\n",
            "\n"
          ],
          "name": "stdout"
        },
        {
          "output_type": "execute_result",
          "data": {
            "text/html": [
              "<div>\n",
              "<style scoped>\n",
              "    .dataframe tbody tr th:only-of-type {\n",
              "        vertical-align: middle;\n",
              "    }\n",
              "\n",
              "    .dataframe tbody tr th {\n",
              "        vertical-align: top;\n",
              "    }\n",
              "\n",
              "    .dataframe thead th {\n",
              "        text-align: right;\n",
              "    }\n",
              "</style>\n",
              "<table border=\"1\" class=\"dataframe\">\n",
              "  <thead>\n",
              "    <tr style=\"text-align: right;\">\n",
              "      <th></th>\n",
              "      <th>YearsExperience</th>\n",
              "      <th>Salary</th>\n",
              "    </tr>\n",
              "  </thead>\n",
              "  <tbody>\n",
              "    <tr>\n",
              "      <th>0</th>\n",
              "      <td>1.1</td>\n",
              "      <td>39343.0</td>\n",
              "    </tr>\n",
              "    <tr>\n",
              "      <th>1</th>\n",
              "      <td>1.3</td>\n",
              "      <td>46205.0</td>\n",
              "    </tr>\n",
              "    <tr>\n",
              "      <th>2</th>\n",
              "      <td>1.5</td>\n",
              "      <td>37731.0</td>\n",
              "    </tr>\n",
              "    <tr>\n",
              "      <th>3</th>\n",
              "      <td>2.0</td>\n",
              "      <td>43525.0</td>\n",
              "    </tr>\n",
              "    <tr>\n",
              "      <th>4</th>\n",
              "      <td>2.2</td>\n",
              "      <td>39891.0</td>\n",
              "    </tr>\n",
              "  </tbody>\n",
              "</table>\n",
              "</div>"
            ],
            "text/plain": [
              "   YearsExperience   Salary\n",
              "0              1.1  39343.0\n",
              "1              1.3  46205.0\n",
              "2              1.5  37731.0\n",
              "3              2.0  43525.0\n",
              "4              2.2  39891.0"
            ]
          },
          "metadata": {
            "tags": []
          },
          "execution_count": 4
        }
      ]
    },
    {
      "cell_type": "markdown",
      "metadata": {
        "id": "S4OuuqOZ4s1M"
      },
      "source": [
        "### Check dataset dimensions, in order to get a good idea for train_test splitting."
      ]
    },
    {
      "cell_type": "code",
      "metadata": {
        "id": "Uv2h4-931pls",
        "outputId": "c3e9823e-fce6-409c-b7a8-4ab7fc1c7ab8",
        "colab": {
          "base_uri": "https://localhost:8080/",
          "height": 34
        }
      },
      "source": [
        "df.shape"
      ],
      "execution_count": 5,
      "outputs": [
        {
          "output_type": "execute_result",
          "data": {
            "text/plain": [
              "(30, 2)"
            ]
          },
          "metadata": {
            "tags": []
          },
          "execution_count": 5
        }
      ]
    },
    {
      "cell_type": "markdown",
      "metadata": {
        "id": "iRXmwyAE42nZ"
      },
      "source": [
        "## 3.Checking for missing values"
      ]
    },
    {
      "cell_type": "code",
      "metadata": {
        "id": "BDqhuXr14x0R",
        "outputId": "4474cdb1-ff21-4cc9-814a-1a901695789f",
        "colab": {
          "base_uri": "https://localhost:8080/",
          "height": 34
        }
      },
      "source": [
        "print(\"Null values present : \",df.isnull().values.any())"
      ],
      "execution_count": 6,
      "outputs": [
        {
          "output_type": "stream",
          "text": [
            "Null values present :  False\n"
          ],
          "name": "stdout"
        }
      ]
    },
    {
      "cell_type": "markdown",
      "metadata": {
        "id": "7jtpn5Ez49wE"
      },
      "source": [
        "## 4.Building the Simple Linear Regression model"
      ]
    },
    {
      "cell_type": "markdown",
      "metadata": {
        "id": "pb0Vt5oU5Dv9"
      },
      "source": [
        "### Obtaining the x and y arrays"
      ]
    },
    {
      "cell_type": "code",
      "metadata": {
        "id": "fIc4_yHx46jM",
        "outputId": "e39066d0-a416-43c8-ee6c-81ed79179cd1",
        "colab": {
          "base_uri": "https://localhost:8080/",
          "height": 791
        }
      },
      "source": [
        "x = df.iloc[:,:-1].values.reshape(-1,1)\n",
        "y = df.iloc[:,-1].values\n",
        "print(\"Show x and y\")\n",
        "print(\"--------X---------\\n\")\n",
        "print(x)\n",
        "print(\"--------Y---------\\n\")\n",
        "print(y)\n",
        "print(\"\\n\\n\")\n",
        "print(\"type of data of x :\",type(x))\n",
        "print(\"type of data of y :\",type(y))"
      ],
      "execution_count": 7,
      "outputs": [
        {
          "output_type": "stream",
          "text": [
            "Show x and y\n",
            "--------X---------\n",
            "\n",
            "[[ 1.1]\n",
            " [ 1.3]\n",
            " [ 1.5]\n",
            " [ 2. ]\n",
            " [ 2.2]\n",
            " [ 2.9]\n",
            " [ 3. ]\n",
            " [ 3.2]\n",
            " [ 3.2]\n",
            " [ 3.7]\n",
            " [ 3.9]\n",
            " [ 4. ]\n",
            " [ 4. ]\n",
            " [ 4.1]\n",
            " [ 4.5]\n",
            " [ 4.9]\n",
            " [ 5.1]\n",
            " [ 5.3]\n",
            " [ 5.9]\n",
            " [ 6. ]\n",
            " [ 6.8]\n",
            " [ 7.1]\n",
            " [ 7.9]\n",
            " [ 8.2]\n",
            " [ 8.7]\n",
            " [ 9. ]\n",
            " [ 9.5]\n",
            " [ 9.6]\n",
            " [10.3]\n",
            " [10.5]]\n",
            "--------Y---------\n",
            "\n",
            "[ 39343.  46205.  37731.  43525.  39891.  56642.  60150.  54445.  64445.\n",
            "  57189.  63218.  55794.  56957.  57081.  61111.  67938.  66029.  83088.\n",
            "  81363.  93940.  91738.  98273. 101302. 113812. 109431. 105582. 116969.\n",
            " 112635. 122391. 121872.]\n",
            "\n",
            "\n",
            "\n",
            "type of data of x : <class 'numpy.ndarray'>\n",
            "type of data of y : <class 'numpy.ndarray'>\n"
          ],
          "name": "stdout"
        }
      ]
    },
    {
      "cell_type": "markdown",
      "metadata": {
        "id": "EMglroZF5K0b"
      },
      "source": [
        "### Importing linear regression packages."
      ]
    },
    {
      "cell_type": "code",
      "metadata": {
        "id": "xHl95q5d5G5a"
      },
      "source": [
        "from sklearn.model_selection import train_test_split\n",
        "from sklearn.linear_model import LinearRegression\n",
        "reg = LinearRegression()"
      ],
      "execution_count": 8,
      "outputs": []
    },
    {
      "cell_type": "markdown",
      "metadata": {
        "id": "2ixB3HFg5WcL"
      },
      "source": [
        "### Setting the training and testing dataset sizes and randomly shuffling the values"
      ]
    },
    {
      "cell_type": "code",
      "metadata": {
        "id": "QRPGz_mH5RIT",
        "outputId": "bd6c3e3b-8089-4d5c-c6c8-19e4bacf67db",
        "colab": {
          "base_uri": "https://localhost:8080/",
          "height": 34
        }
      },
      "source": [
        "x_train,x_test,y_train,y_test = train_test_split(x,y,test_size=1/3,random_state=0)\n",
        "reg.fit(x_train,y_train)"
      ],
      "execution_count": 9,
      "outputs": [
        {
          "output_type": "execute_result",
          "data": {
            "text/plain": [
              "LinearRegression(copy_X=True, fit_intercept=True, n_jobs=None, normalize=False)"
            ]
          },
          "metadata": {
            "tags": []
          },
          "execution_count": 9
        }
      ]
    },
    {
      "cell_type": "markdown",
      "metadata": {
        "id": "rjCs_7SA5hG4"
      },
      "source": [
        "### Obtaining the slope"
      ]
    },
    {
      "cell_type": "code",
      "metadata": {
        "id": "QN_YIij85ce5",
        "outputId": "6b8acf0e-8ef9-4d5a-e4cb-e2a16bf74b93",
        "colab": {
          "base_uri": "https://localhost:8080/",
          "height": 70
        }
      },
      "source": [
        "y_pred = reg.predict(x_test)\n",
        "print(y_pred)"
      ],
      "execution_count": 10,
      "outputs": [
        {
          "output_type": "stream",
          "text": [
            "[ 40835.10590871 123079.39940819  65134.55626083  63265.36777221\n",
            " 115602.64545369 108125.8914992  116537.23969801  64199.96201652\n",
            "  76349.68719258 100649.1375447 ]\n"
          ],
          "name": "stdout"
        }
      ]
    },
    {
      "cell_type": "markdown",
      "metadata": {
        "id": "onCh3omV5ny2"
      },
      "source": [
        "### Finding the coefficient"
      ]
    },
    {
      "cell_type": "code",
      "metadata": {
        "id": "OQI9rVyE5kTz",
        "outputId": "0a447cde-7a5d-4625-f4bd-e1849b0a40d6",
        "colab": {
          "base_uri": "https://localhost:8080/",
          "height": 34
        }
      },
      "source": [
        "reg.coef_"
      ],
      "execution_count": 11,
      "outputs": [
        {
          "output_type": "execute_result",
          "data": {
            "text/plain": [
              "array([9345.94244312])"
            ]
          },
          "metadata": {
            "tags": []
          },
          "execution_count": 11
        }
      ]
    },
    {
      "cell_type": "markdown",
      "metadata": {
        "id": "8kIoDZ915uxA"
      },
      "source": [
        "### Finding the intercept"
      ]
    },
    {
      "cell_type": "code",
      "metadata": {
        "id": "XnpvsZnQ5tfn",
        "outputId": "4709d1fe-072b-4a53-da21-582683972608",
        "colab": {
          "base_uri": "https://localhost:8080/",
          "height": 34
        }
      },
      "source": [
        "reg.intercept_"
      ],
      "execution_count": 12,
      "outputs": [
        {
          "output_type": "execute_result",
          "data": {
            "text/plain": [
              "26816.192244031183"
            ]
          },
          "metadata": {
            "tags": []
          },
          "execution_count": 12
        }
      ]
    },
    {
      "cell_type": "markdown",
      "metadata": {
        "id": "e9luNfp654gu"
      },
      "source": [
        "### Making a prediction and scoring the result"
      ]
    },
    {
      "cell_type": "markdown",
      "metadata": {
        "id": "vHhLsmcl56Vo"
      },
      "source": [
        "### Predict the salary for 8 years of experience"
      ]
    },
    {
      "cell_type": "code",
      "metadata": {
        "id": "CZYVJWJ35094",
        "outputId": "68224066-19b3-4fdb-ef73-7ee13f3a588b",
        "colab": {
          "base_uri": "https://localhost:8080/",
          "height": 34
        }
      },
      "source": [
        "reg.predict([[8]])"
      ],
      "execution_count": 15,
      "outputs": [
        {
          "output_type": "execute_result",
          "data": {
            "text/plain": [
              "array([101583.73178901])"
            ]
          },
          "metadata": {
            "tags": []
          },
          "execution_count": 15
        }
      ]
    },
    {
      "cell_type": "markdown",
      "metadata": {
        "id": "mmCmhLRj6Is7"
      },
      "source": [
        "### Mathematical justification :\n",
        "### Checking the equation in terms of y = coefficient * x + intercept\n"
      ]
    },
    {
      "cell_type": "code",
      "metadata": {
        "id": "V4qIXjnf6Eot",
        "outputId": "010313e4-b9b2-4917-b516-3995201b1d0a",
        "colab": {
          "base_uri": "https://localhost:8080/",
          "height": 87
        }
      },
      "source": [
        "print(\"coefficient = \",reg.coef_)\n",
        "print(\"intercept   = \",reg.intercept_)\n",
        "print(\"value of x  = \",8)\n",
        "print(\"Result (y)  = \",(reg.coef_*8 + reg.intercept_))"
      ],
      "execution_count": 16,
      "outputs": [
        {
          "output_type": "stream",
          "text": [
            "coefficient =  [9345.94244312]\n",
            "intercept   =  26816.192244031183\n",
            "value of x  =  8\n",
            "Result (y)  =  [101583.73178901]\n"
          ],
          "name": "stdout"
        }
      ]
    },
    {
      "cell_type": "markdown",
      "metadata": {
        "id": "Now5v9zI6fk_"
      },
      "source": [
        "### Hence, y is equal to the predicted result."
      ]
    },
    {
      "cell_type": "code",
      "metadata": {
        "id": "5rUcHHYR6StT",
        "outputId": "ce2727c3-4e2b-48e2-c1c2-7db92967acab",
        "colab": {
          "base_uri": "https://localhost:8080/",
          "height": 34
        }
      },
      "source": [
        "y = reg.coef_*8 + reg.intercept_\n",
        "yp = reg.predict([[8]])\n",
        "r = int(100.00 - (y - yp))\n",
        "print(\"Predicted result accuracy percentage : \",r,\"%\")"
      ],
      "execution_count": 18,
      "outputs": [
        {
          "output_type": "stream",
          "text": [
            "Predicted result accuracy percentage :  100 %\n"
          ],
          "name": "stdout"
        }
      ]
    },
    {
      "cell_type": "markdown",
      "metadata": {
        "id": "gycd_GEo6s68"
      },
      "source": [
        "### Displaying test values"
      ]
    },
    {
      "cell_type": "code",
      "metadata": {
        "id": "0f1NaqhP6lTk",
        "outputId": "04ef0321-227e-4262-9e95-0a30efbe10a4",
        "colab": {
          "base_uri": "https://localhost:8080/",
          "height": 193
        }
      },
      "source": [
        "print(x_test)"
      ],
      "execution_count": 19,
      "outputs": [
        {
          "output_type": "stream",
          "text": [
            "[[ 1.5]\n",
            " [10.3]\n",
            " [ 4.1]\n",
            " [ 3.9]\n",
            " [ 9.5]\n",
            " [ 8.7]\n",
            " [ 9.6]\n",
            " [ 4. ]\n",
            " [ 5.3]\n",
            " [ 7.9]]\n"
          ],
          "name": "stdout"
        }
      ]
    },
    {
      "cell_type": "code",
      "metadata": {
        "id": "C3AZTjuq6wPG",
        "outputId": "a4b9c368-d82a-4fcd-d814-a5962fdd7477",
        "colab": {
          "base_uri": "https://localhost:8080/",
          "height": 70
        }
      },
      "source": [
        "print(y_train)"
      ],
      "execution_count": 20,
      "outputs": [
        {
          "output_type": "stream",
          "text": [
            "[ 56642.  66029.  64445.  61111. 113812.  91738.  46205. 121872.  60150.\n",
            "  39891.  81363.  93940.  57189.  54445. 105582.  43525.  39343.  98273.\n",
            "  67938.  56957.]\n"
          ],
          "name": "stdout"
        }
      ]
    },
    {
      "cell_type": "markdown",
      "metadata": {
        "id": "tp31VrfD62IE"
      },
      "source": [
        "## 5. Visualizing the results"
      ]
    },
    {
      "cell_type": "code",
      "metadata": {
        "id": "If0ixr5A6zC0",
        "outputId": "11508256-1617-406c-c920-b50e242c4d3b",
        "colab": {
          "base_uri": "https://localhost:8080/",
          "height": 503
        }
      },
      "source": [
        "plt.figure(figsize=(20,7))\n",
        "plt.scatter(x_train,y_train,color='red')\n",
        "plt.plot(x_train,reg.predict(x_train),color='blue')\n",
        "plt.xlabel('Years of Experience',size=18,color='indigo')\n",
        "plt.ylabel('Salary',size=18,color='indigo')\n",
        "plt.title('Salary vs Experience regression graph (Training set)\\n',size=24,color='orange',fontweight='bold')\n",
        "plt.show()"
      ],
      "execution_count": 21,
      "outputs": [
        {
          "output_type": "display_data",
          "data": {
            "image/png": "[encoded data removed]",
            "text/plain": [
              "<Figure size 1440x504 with 1 Axes>"
            ]
          },
          "metadata": {
            "tags": [],
            "needs_background": "light"
          }
        }
      ]
    },
    {
      "cell_type": "code",
      "metadata": {
        "id": "TvIdxhYs669v",
        "outputId": "fce6aad0-5874-4c4a-b886-5ab872c7ba9d",
        "colab": {
          "base_uri": "https://localhost:8080/",
          "height": 503
        }
      },
      "source": [
        "plt.figure(figsize=(20,7))\n",
        "plt.scatter(x_test,y_test,color='green')\n",
        "plt.plot(x_train,reg.predict(x_train),color='black')\n",
        "plt.xlabel('Years of Experience',size=18,color='indigo')\n",
        "plt.ylabel('Salary',size=18,color='indigo')\n",
        "plt.title('Salary vs Experience regression graph (Training set)\\n',size=24,color='green',fontweight='bold')\n",
        "plt.show()"
      ],
      "execution_count": 22,
      "outputs": [
        {
          "output_type": "display_data",
          "data": {
            "image/png": "[encoded data removed]",
            "text/plain": [
              "<Figure size 1440x504 with 1 Axes>"
            ]
          },
          "metadata": {
            "tags": [],
            "needs_background": "light"
          }
        }
      ]
    },
    {
      "cell_type": "markdown",
      "metadata": {
        "id": "obQc8riR7Doa"
      },
      "source": [
        "## Pros and Cons of Linear Regression :\n",
        "Every thing has a good and a bad side or a limitation,within which it works best. Well, we have them for Linear Regression also."
      ]
    },
    {
      "cell_type": "markdown",
      "metadata": {
        "id": "bFPfk7LT7Dft"
      },
      "source": [
        "Pros or Advantages :\n",
        "<p>i.Automatically chooses the best fit graph for any dataset with a single x and y.</p>\n",
        "<p>ii.Works very fast, compared to other regression models, due to its simplicity.</p>\n",
        "iii.useful for 2 variable datasets (x and y only) of any size"
      ]
    },
    {
      "cell_type": "markdown",
      "metadata": {
        "id": "-0ve9KRI7DX1"
      },
      "source": [
        "Cons or Disadvantages :\n",
        "<p>i.Not good for multivariate datasets (datasets with more than 1 independent parameters)</p>\n",
        "<p>ii.Cannot recognize mathemetical patterns like a sine series or quadratic trends</p>\n",
        "<p>iii.Could not produce a good result if the data is largely scattered.</p>\n"
      ]
    },
    {
      "cell_type": "code",
      "metadata": {
        "id": "YxJ3hvjy6-qX"
      },
      "source": [
        ""
      ],
      "execution_count": null,
      "outputs": []
    }
  ]
}
