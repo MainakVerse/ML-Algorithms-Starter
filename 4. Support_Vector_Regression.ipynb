{
  "nbformat": 4,
  "nbformat_minor": 0,
  "metadata": {
    "colab": {
      "name": "4. Support Vector Regression.ipynb",
      "provenance": [],
      "authorship_tag": "ABX9TyMib7jsm97yyLJiXzl06LVS",
      "include_colab_link": true
    },
    "kernelspec": {
      "name": "python3",
      "display_name": "Python 3"
    }
  },
  "cells": [
    {
      "cell_type": "markdown",
      "metadata": {
        "id": "view-in-github",
        "colab_type": "text"
      },
      "source": [
        "<a href=\"https://colab.research.google.com/github/MainakRepositor/ML-Algorithms/blob/master/4_Support_Vector_Regression.ipynb\" target=\"_parent\"><img src=\"https://colab.research.google.com/assets/colab-badge.svg\" alt=\"Open In Colab\"/></a>"
      ]
    },
    {
      "cell_type": "markdown",
      "metadata": {
        "id": "KkT49w4Dv6qv"
      },
      "source": [
        "# SUPPORT VECTOR REGRESSION\n",
        "\n",
        "<hr>"
      ]
    },
    {
      "cell_type": "markdown",
      "metadata": {
        "id": "QKY1LFNMv7zx"
      },
      "source": [
        "## Explanation:\n",
        "\n",
        "### Support vector regression or SVR is a machine learning algorithm which automatically finds a good fit for a trend, not necessarily a linear one, but by using best expression which determines a proper relation. SVR gives us the flexibility to define how much error is acceptable in our model and will find an appropriate line (or hyperplane in higher dimensions) to fit the data. Truly speaking, SVR is the combination of all its prior regression algorithms. Practically it is used for classifaction based problems, but it is also quite helpful for solving regression use cases."
      ]
    },
    {
      "cell_type": "markdown",
      "metadata": {
        "id": "jF33usyGv72d"
      },
      "source": [
        "### In contrast to OLS, the objective function of SVR is to minimize the coefficients — more specifically, the l2-norm of the coefficient vector — not the squared error. The error term is instead handled in the constraints, where we set the absolute error less than or equal to a specified margin, called the maximum error, ϵ (epsilon). We can tune epsilon to gain the desired accuracy of our model. Our new objective function and constraints are as follows:"
      ]
    },
    {
      "cell_type": "markdown",
      "metadata": {
        "id": "4gWyxkGtv75d"
      },
      "source": [
        "## Minimize:\n",
        "<img src=\"https://miro.medium.com/max/285/1*6M8yyY7yC7xJX6nFN2SdCQ.png\">\n",
        "\n",
        "## Constraints:\n",
        "<img src=\"https://miro.medium.com/max/316/1*gpN_ZxDuLgusn-O0fck13A.png\">"
      ]
    },
    {
      "cell_type": "markdown",
      "metadata": {
        "id": "GHJcCX4Xv78a"
      },
      "source": [
        "## Working principle:\n",
        "<img src=\"https://miro.medium.com/max/875/1*nrXHNqC_hqpyux7GUbtqAQ.png\">"
      ]
    },
    {
      "cell_type": "markdown",
      "metadata": {
        "id": "5guT0vp8v7_R"
      },
      "source": [
        "### SVR creates a confidence zone on both sides of the regression slope. Then it tries to fit all major points and forms a graph accordingly.\n",
        "### Considering deviations from first prediction:\n",
        "### We know that these deviations have the potential to exist, but we would still like to minimize them as much as possible. Thus, we can add these deviations to the objective function."
      ]
    },
    {
      "cell_type": "markdown",
      "metadata": {
        "id": "KnBkKtZBv8CI"
      },
      "source": [
        "## Minimize:\n",
        "<img src=\"https://miro.medium.com/max/498/1*6Pk3E2Mkg99jXbQTFla99Q.png\">\n",
        "\n",
        "## Constraint:\n",
        "<img src=\"https://miro.medium.com/max/441/1*2BcaD3X72lAj7IezAOLJxg.png\">"
      ]
    },
    {
      "cell_type": "markdown",
      "metadata": {
        "id": "Gy5TSywev8E3"
      },
      "source": [
        "###  Considering both side deviations and thus forming a smoother plot"
      ]
    },
    {
      "cell_type": "markdown",
      "metadata": {
        "id": "d8RiOdomv8IN"
      },
      "source": [
        "<img src=\"https://miro.medium.com/max/875/1*BunsGiCZCPAHzp33L2lCBA.png\">"
      ]
    },
    {
      "cell_type": "markdown",
      "metadata": {
        "id": "zs6-BobjxuSx"
      },
      "source": [
        "### This technique helps to fit most of the outliers except for the extremes. Thus the plotting becomes more realistic"
      ]
    },
    {
      "cell_type": "markdown",
      "metadata": {
        "id": "AQEQfWmQxzF7"
      },
      "source": [
        "## Building the ML model :"
      ]
    },
    {
      "cell_type": "code",
      "metadata": {
        "id": "-k9wXUzBxroQ",
        "outputId": "aa8e1adb-342f-4f1c-dc2e-8498d5277681",
        "colab": {
          "base_uri": "https://localhost:8080/",
          "height": 34
        }
      },
      "source": [
        "# Importing the libraries\n",
        "import pandas as pd\n",
        "import numpy as np\n",
        "import matplotlib.pyplot as plt\n",
        "import pandas as pd\n",
        "print(\"All packages have been included successfully!\")"
      ],
      "execution_count": 1,
      "outputs": [
        {
          "output_type": "stream",
          "text": [
            "All packages have been included successfully!\n"
          ],
          "name": "stdout"
        }
      ]
    },
    {
      "cell_type": "code",
      "metadata": {
        "id": "YCc3mkUrx430",
        "outputId": "41a46876-58f9-401c-8047-7d418b93e864",
        "colab": {
          "base_uri": "https://localhost:8080/",
          "height": 195
        }
      },
      "source": [
        "url = 'https://raw.githubusercontent.com/MainakRepositor/Datasets-/master/Position_Salaries.csv'\n",
        "df = pd.read_csv(url,error_bad_lines=False)\n",
        "df.head()"
      ],
      "execution_count": 2,
      "outputs": [
        {
          "output_type": "execute_result",
          "data": {
            "text/html": [
              "<div>\n",
              "<style scoped>\n",
              "    .dataframe tbody tr th:only-of-type {\n",
              "        vertical-align: middle;\n",
              "    }\n",
              "\n",
              "    .dataframe tbody tr th {\n",
              "        vertical-align: top;\n",
              "    }\n",
              "\n",
              "    .dataframe thead th {\n",
              "        text-align: right;\n",
              "    }\n",
              "</style>\n",
              "<table border=\"1\" class=\"dataframe\">\n",
              "  <thead>\n",
              "    <tr style=\"text-align: right;\">\n",
              "      <th></th>\n",
              "      <th>Position</th>\n",
              "      <th>Level</th>\n",
              "      <th>Salary</th>\n",
              "    </tr>\n",
              "  </thead>\n",
              "  <tbody>\n",
              "    <tr>\n",
              "      <th>0</th>\n",
              "      <td>Business Analyst</td>\n",
              "      <td>1</td>\n",
              "      <td>45000</td>\n",
              "    </tr>\n",
              "    <tr>\n",
              "      <th>1</th>\n",
              "      <td>Junior Consultant</td>\n",
              "      <td>2</td>\n",
              "      <td>50000</td>\n",
              "    </tr>\n",
              "    <tr>\n",
              "      <th>2</th>\n",
              "      <td>Senior Consultant</td>\n",
              "      <td>3</td>\n",
              "      <td>60000</td>\n",
              "    </tr>\n",
              "    <tr>\n",
              "      <th>3</th>\n",
              "      <td>Manager</td>\n",
              "      <td>4</td>\n",
              "      <td>80000</td>\n",
              "    </tr>\n",
              "    <tr>\n",
              "      <th>4</th>\n",
              "      <td>Country Manager</td>\n",
              "      <td>5</td>\n",
              "      <td>110000</td>\n",
              "    </tr>\n",
              "  </tbody>\n",
              "</table>\n",
              "</div>"
            ],
            "text/plain": [
              "            Position  Level  Salary\n",
              "0   Business Analyst      1   45000\n",
              "1  Junior Consultant      2   50000\n",
              "2  Senior Consultant      3   60000\n",
              "3            Manager      4   80000\n",
              "4    Country Manager      5  110000"
            ]
          },
          "metadata": {
            "tags": []
          },
          "execution_count": 2
        }
      ]
    },
    {
      "cell_type": "code",
      "metadata": {
        "id": "YLTmQU5OyMsZ",
        "outputId": "f2072f1f-307b-4f7b-e5b7-0dc5d79181a3",
        "colab": {
          "base_uri": "https://localhost:8080/",
          "height": 404
        }
      },
      "source": [
        "X = df.iloc[:, 1:-1].values\n",
        "y = df.iloc[:, -1].values\n",
        "print(X)\n",
        "print(y)\n",
        "y = y.reshape(len(y),1)\n",
        "print(y)"
      ],
      "execution_count": 3,
      "outputs": [
        {
          "output_type": "stream",
          "text": [
            "[[ 1]\n",
            " [ 2]\n",
            " [ 3]\n",
            " [ 4]\n",
            " [ 5]\n",
            " [ 6]\n",
            " [ 7]\n",
            " [ 8]\n",
            " [ 9]\n",
            " [10]]\n",
            "[  45000   50000   60000   80000  110000  150000  200000  300000  500000\n",
            " 1000000]\n",
            "[[  45000]\n",
            " [  50000]\n",
            " [  60000]\n",
            " [  80000]\n",
            " [ 110000]\n",
            " [ 150000]\n",
            " [ 200000]\n",
            " [ 300000]\n",
            " [ 500000]\n",
            " [1000000]]\n"
          ],
          "name": "stdout"
        }
      ]
    },
    {
      "cell_type": "code",
      "metadata": {
        "id": "bpKScoZ2yQpT",
        "outputId": "97c7ca5f-c8d4-4d0a-ef11-2d8a256f2799",
        "colab": {
          "base_uri": "https://localhost:8080/",
          "height": 369
        }
      },
      "source": [
        "# Feature Scaling\n",
        "from sklearn.preprocessing import StandardScaler\n",
        "sc_X = StandardScaler()\n",
        "sc_y = StandardScaler()\n",
        "X = sc_X.fit_transform(X)\n",
        "y = sc_y.fit_transform(y)\n",
        "print(X)\n",
        "print(y)"
      ],
      "execution_count": 4,
      "outputs": [
        {
          "output_type": "stream",
          "text": [
            "[[-1.5666989 ]\n",
            " [-1.21854359]\n",
            " [-0.87038828]\n",
            " [-0.52223297]\n",
            " [-0.17407766]\n",
            " [ 0.17407766]\n",
            " [ 0.52223297]\n",
            " [ 0.87038828]\n",
            " [ 1.21854359]\n",
            " [ 1.5666989 ]]\n",
            "[[-0.72004253]\n",
            " [-0.70243757]\n",
            " [-0.66722767]\n",
            " [-0.59680786]\n",
            " [-0.49117815]\n",
            " [-0.35033854]\n",
            " [-0.17428902]\n",
            " [ 0.17781001]\n",
            " [ 0.88200808]\n",
            " [ 2.64250325]]\n"
          ],
          "name": "stdout"
        }
      ]
    },
    {
      "cell_type": "code",
      "metadata": {
        "id": "0dvpDiVZyUO3",
        "outputId": "9a479d1a-18da-47c6-d8b6-c575ade5c26f",
        "colab": {
          "base_uri": "https://localhost:8080/",
          "height": 107
        }
      },
      "source": [
        "# Training the SVR model on the whole dataset\n",
        "from sklearn.svm import SVR\n",
        "regressor = SVR(kernel = 'rbf')\n",
        "regressor.fit(X, y)"
      ],
      "execution_count": 5,
      "outputs": [
        {
          "output_type": "stream",
          "text": [
            "/usr/local/lib/python3.6/dist-packages/sklearn/utils/validation.py:760: DataConversionWarning: A column-vector y was passed when a 1d array was expected. Please change the shape of y to (n_samples, ), for example using ravel().\n",
            "  y = column_or_1d(y, warn=True)\n"
          ],
          "name": "stderr"
        },
        {
          "output_type": "execute_result",
          "data": {
            "text/plain": [
              "SVR(C=1.0, cache_size=200, coef0=0.0, degree=3, epsilon=0.1, gamma='scale',\n",
              "    kernel='rbf', max_iter=-1, shrinking=True, tol=0.001, verbose=False)"
            ]
          },
          "metadata": {
            "tags": []
          },
          "execution_count": 5
        }
      ]
    },
    {
      "cell_type": "code",
      "metadata": {
        "id": "LX91JlDByXJB",
        "outputId": "9bcde33b-2b31-4e80-9f67-f067e0edd820",
        "colab": {
          "base_uri": "https://localhost:8080/",
          "height": 34
        }
      },
      "source": [
        "# Predicting a new result\n",
        "sc_y.inverse_transform(regressor.predict(sc_X.transform([[12.5]])))"
      ],
      "execution_count": 6,
      "outputs": [
        {
          "output_type": "execute_result",
          "data": {
            "text/plain": [
              "array([411842.2125027])"
            ]
          },
          "metadata": {
            "tags": []
          },
          "execution_count": 6
        }
      ]
    },
    {
      "cell_type": "code",
      "metadata": {
        "id": "UBLY2OcnyaOI",
        "outputId": "f9d23818-4f82-488f-b94c-010e8fa10144",
        "colab": {
          "base_uri": "https://localhost:8080/",
          "height": 558
        }
      },
      "source": [
        "# Visualising the SVR results\n",
        "plt.figure(figsize=(20,8))\n",
        "plt.scatter(sc_X.inverse_transform(X), sc_y.inverse_transform(y), color = 'red')\n",
        "plt.plot(sc_X.inverse_transform(X), sc_y.inverse_transform(regressor.predict(X)), color = 'blue')\n",
        "plt.title('Salary with respect to position\\n',size=24)\n",
        "plt.xlabel('Position level',size=18)\n",
        "plt.ylabel('Salary',size=18)\n",
        "plt.show()"
      ],
      "execution_count": 7,
      "outputs": [
        {
          "output_type": "display_data",
          "data": {
            "image/png": "[encoded data removed]",
            "text/plain": [
              "<Figure size 1440x576 with 1 Axes>"
            ]
          },
          "metadata": {
            "tags": [],
            "needs_background": "light"
          }
        }
      ]
    },
    {
      "cell_type": "markdown",
      "metadata": {
        "id": "-oHHIB3byi4o"
      },
      "source": [
        "## The plot has made a perfect trend analysis but the edges are pointed. So, let us smoothen them"
      ]
    },
    {
      "cell_type": "code",
      "metadata": {
        "id": "m9Ss2aoHyepb",
        "outputId": "89f6fe1b-cc47-4262-9bd1-89721ed476e6",
        "colab": {
          "base_uri": "https://localhost:8080/",
          "height": 559
        }
      },
      "source": [
        "# Visualising the SVR results (for higher resolution and smoother curve)\n",
        "plt.figure(figsize=(20,8))\n",
        "X_grid = np.arange(min(sc_X.inverse_transform(X)), max(sc_X.inverse_transform(X)), 0.1)\n",
        "X_grid = X_grid.reshape((len(X_grid), 1))\n",
        "plt.scatter(sc_X.inverse_transform(X), sc_y.inverse_transform(y), color = 'red')\n",
        "plt.plot(X_grid, sc_y.inverse_transform(regressor.predict(sc_X.transform(X_grid))), color = 'blue')\n",
        "plt.title('Salary with respect to position\\n',size=24)\n",
        "plt.xlabel('Position level',size=20)\n",
        "plt.ylabel('Salary',size=20)\n",
        "plt.show()"
      ],
      "execution_count": 8,
      "outputs": [
        {
          "output_type": "display_data",
          "data": {
            "image/png": "[encoded data removed]",
            "text/plain": [
              "<Figure size 1440x576 with 1 Axes>"
            ]
          },
          "metadata": {
            "tags": [],
            "needs_background": "light"
          }
        }
      ]
    },
    {
      "cell_type": "markdown",
      "metadata": {
        "id": "7RVH4eVxyq6F"
      },
      "source": [
        "## Thus, SVR is correctly the \"Jack of all trade\"."
      ]
    }
  ]
}
