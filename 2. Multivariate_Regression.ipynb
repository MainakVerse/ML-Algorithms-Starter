{
  "nbformat": 4,
  "nbformat_minor": 0,
  "metadata": {
    "colab": {
      "name": "Multivariate Regression.ipynb",
      "provenance": [],
      "authorship_tag": "ABX9TyN+GUKfFzYeXqvnutE/jw6z",
      "include_colab_link": true
    },
    "kernelspec": {
      "name": "python3",
      "display_name": "Python 3"
    }
  },
  "cells": [
    {
      "cell_type": "markdown",
      "metadata": {
        "id": "view-in-github",
        "colab_type": "text"
      },
      "source": [
        "<a href=\"https://colab.research.google.com/github/MainakRepositor/ML-Algorithms/blob/master/Multivariate_Regression.ipynb\" target=\"_parent\"><img src=\"https://colab.research.google.com/assets/colab-badge.svg\" alt=\"Open In Colab\"/></a>"
      ]
    },
    {
      "cell_type": "markdown",
      "metadata": {
        "id": "0i3ojNd8Ba6R"
      },
      "source": [
        "# MULTIVARIATE REGRESSION"
      ]
    },
    {
      "cell_type": "markdown",
      "metadata": {
        "id": "vW-yOXe7BcfJ"
      },
      "source": [
        "## Multi-variate regression or multiple linear regression is a Machine Learning model, which is made to find relation between multiple independent variables and thus, determine the values of a dependent variable. In linear regression, there was only one coefficient, as there was a single independent variable. But in multiple linear regression, there are infact, multiple coefficients for multiple variables as the equation below will demonstrate.\n"
      ]
    },
    {
      "cell_type": "markdown",
      "metadata": {
        "id": "do_rS-6QBcnx"
      },
      "source": [
        "## Mathematical Notation :\n",
        "<img src=\"https://miro.medium.com/max/1662/1*39FkA9sgT6E_txFT_KANjw.png\">"
      ]
    },
    {
      "cell_type": "markdown",
      "metadata": {
        "id": "JDzu3tQBBcyL"
      },
      "source": [
        "## Unlike simple linear regression, a multiple linear regression or multivariate regression has more than one slopes, depending upon the number of independent parameters. But for all of them, we use only y axis when all xs depend on y individually"
      ]
    },
    {
      "cell_type": "markdown",
      "metadata": {
        "id": "80Gr2yDBBc7n"
      },
      "source": [
        "<img src=\"https://www.researchgate.net/profile/Mark_Vandam/publication/270961898/figure/fig1/AS:267470841839624@1440781426132/Multiple-linear-regression-MLR-model-predictions-for-individual-observations-ie.png\" width=60%>"
      ]
    },
    {
      "cell_type": "markdown",
      "metadata": {
        "id": "jgPFd62mCSXR"
      },
      "source": [
        "## Building model through codes"
      ]
    },
    {
      "cell_type": "markdown",
      "metadata": {
        "id": "GG9cjLLlCYkU"
      },
      "source": [
        "## 1. Importing necessary libraries"
      ]
    },
    {
      "cell_type": "code",
      "metadata": {
        "id": "iPdg86g5CN-2",
        "outputId": "0beb6f41-47d0-41af-8e80-203b9ed917b5",
        "colab": {
          "base_uri": "https://localhost:8080/",
          "height": 34
        }
      },
      "source": [
        "import numpy as np\n",
        "import pandas as pd\n",
        "import matplotlib.pyplot as plt\n",
        "%matplotlib inline\n",
        "print(\"All packages installed successfully!\")"
      ],
      "execution_count": 1,
      "outputs": [
        {
          "output_type": "stream",
          "text": [
            "All packages installed successfully!\n"
          ],
          "name": "stdout"
        }
      ]
    },
    {
      "cell_type": "markdown",
      "metadata": {
        "id": "GFXCDVA9CmZ3"
      },
      "source": [
        "## 2. Importing the datasets"
      ]
    },
    {
      "cell_type": "code",
      "metadata": {
        "id": "1z7F70j8CeAl",
        "outputId": "b1e0c75d-38e7-4aeb-9ec8-a69e985e9218",
        "colab": {
          "base_uri": "https://localhost:8080/",
          "height": 343
        }
      },
      "source": [
        "url = 'https://raw.githubusercontent.com/MainakRepositor/Datasets-/master/House%20rent.csv'\n",
        "df = pd.read_csv(url,error_bad_lines=False)\n",
        "df.head(10)"
      ],
      "execution_count": 2,
      "outputs": [
        {
          "output_type": "execute_result",
          "data": {
            "text/html": [
              "<div>\n",
              "<style scoped>\n",
              "    .dataframe tbody tr th:only-of-type {\n",
              "        vertical-align: middle;\n",
              "    }\n",
              "\n",
              "    .dataframe tbody tr th {\n",
              "        vertical-align: top;\n",
              "    }\n",
              "\n",
              "    .dataframe thead th {\n",
              "        text-align: right;\n",
              "    }\n",
              "</style>\n",
              "<table border=\"1\" class=\"dataframe\">\n",
              "  <thead>\n",
              "    <tr style=\"text-align: right;\">\n",
              "      <th></th>\n",
              "      <th>Area</th>\n",
              "      <th>Bedrooms</th>\n",
              "      <th>Age</th>\n",
              "      <th>Rent</th>\n",
              "    </tr>\n",
              "  </thead>\n",
              "  <tbody>\n",
              "    <tr>\n",
              "      <th>0</th>\n",
              "      <td>1024</td>\n",
              "      <td>3.0</td>\n",
              "      <td>15</td>\n",
              "      <td>11200</td>\n",
              "    </tr>\n",
              "    <tr>\n",
              "      <th>1</th>\n",
              "      <td>1200</td>\n",
              "      <td>4.0</td>\n",
              "      <td>10</td>\n",
              "      <td>33650</td>\n",
              "    </tr>\n",
              "    <tr>\n",
              "      <th>2</th>\n",
              "      <td>800</td>\n",
              "      <td>2.0</td>\n",
              "      <td>5</td>\n",
              "      <td>8000</td>\n",
              "    </tr>\n",
              "    <tr>\n",
              "      <th>3</th>\n",
              "      <td>674</td>\n",
              "      <td>2.0</td>\n",
              "      <td>10</td>\n",
              "      <td>6120</td>\n",
              "    </tr>\n",
              "    <tr>\n",
              "      <th>4</th>\n",
              "      <td>766</td>\n",
              "      <td>2.0</td>\n",
              "      <td>11</td>\n",
              "      <td>6000</td>\n",
              "    </tr>\n",
              "    <tr>\n",
              "      <th>5</th>\n",
              "      <td>680</td>\n",
              "      <td>NaN</td>\n",
              "      <td>36</td>\n",
              "      <td>3200</td>\n",
              "    </tr>\n",
              "    <tr>\n",
              "      <th>6</th>\n",
              "      <td>750</td>\n",
              "      <td>NaN</td>\n",
              "      <td>10</td>\n",
              "      <td>3500</td>\n",
              "    </tr>\n",
              "    <tr>\n",
              "      <th>7</th>\n",
              "      <td>900</td>\n",
              "      <td>3.0</td>\n",
              "      <td>20</td>\n",
              "      <td>3345</td>\n",
              "    </tr>\n",
              "    <tr>\n",
              "      <th>8</th>\n",
              "      <td>967</td>\n",
              "      <td>3.0</td>\n",
              "      <td>23</td>\n",
              "      <td>3100</td>\n",
              "    </tr>\n",
              "    <tr>\n",
              "      <th>9</th>\n",
              "      <td>720</td>\n",
              "      <td>3.0</td>\n",
              "      <td>7</td>\n",
              "      <td>6200</td>\n",
              "    </tr>\n",
              "  </tbody>\n",
              "</table>\n",
              "</div>"
            ],
            "text/plain": [
              "   Area  Bedrooms  Age   Rent\n",
              "0  1024       3.0   15  11200\n",
              "1  1200       4.0   10  33650\n",
              "2   800       2.0    5   8000\n",
              "3   674       2.0   10   6120\n",
              "4   766       2.0   11   6000\n",
              "5   680       NaN   36   3200\n",
              "6   750       NaN   10   3500\n",
              "7   900       3.0   20   3345\n",
              "8   967       3.0   23   3100\n",
              "9   720       3.0    7   6200"
            ]
          },
          "metadata": {
            "tags": []
          },
          "execution_count": 2
        }
      ]
    },
    {
      "cell_type": "markdown",
      "metadata": {
        "id": "GYAGicfXCu-d"
      },
      "source": [
        "## 3. Exploring data"
      ]
    },
    {
      "cell_type": "markdown",
      "metadata": {
        "id": "RuXoKNi6Cygg"
      },
      "source": [
        "### Shape of the dataframe in the form of (rows,columns)"
      ]
    },
    {
      "cell_type": "code",
      "metadata": {
        "id": "U2VJ7hv8Cpjm",
        "outputId": "30f3b954-1e4d-43ae-8924-ba1ec7898d4f",
        "colab": {
          "base_uri": "https://localhost:8080/",
          "height": 34
        }
      },
      "source": [
        "df.shape"
      ],
      "execution_count": 3,
      "outputs": [
        {
          "output_type": "execute_result",
          "data": {
            "text/plain": [
              "(40, 4)"
            ]
          },
          "metadata": {
            "tags": []
          },
          "execution_count": 3
        }
      ]
    },
    {
      "cell_type": "markdown",
      "metadata": {
        "id": "GDlepRyEC4ad"
      },
      "source": [
        "### Check for missing values"
      ]
    },
    {
      "cell_type": "code",
      "metadata": {
        "id": "bkQKWwD8C1de",
        "outputId": "ecddc20b-427c-443d-8908-a5e4f4e2064d",
        "colab": {
          "base_uri": "https://localhost:8080/",
          "height": 34
        }
      },
      "source": [
        "print(\"Are there null values ?\",df.isnull().values.any())"
      ],
      "execution_count": 4,
      "outputs": [
        {
          "output_type": "stream",
          "text": [
            "Are there null values ? True\n"
          ],
          "name": "stdout"
        }
      ]
    },
    {
      "cell_type": "markdown",
      "metadata": {
        "id": "7Y9ybERjC6JM"
      },
      "source": [
        "### Column-wise count of missing values"
      ]
    },
    {
      "cell_type": "code",
      "metadata": {
        "id": "51bk4KXoDBw9",
        "outputId": "9ffa3315-6748-4443-f587-29ab92436313",
        "colab": {
          "base_uri": "https://localhost:8080/",
          "height": 105
        }
      },
      "source": [
        "df.isnull().sum()"
      ],
      "execution_count": 5,
      "outputs": [
        {
          "output_type": "execute_result",
          "data": {
            "text/plain": [
              "Area        0\n",
              "Bedrooms    4\n",
              "Age         0\n",
              "Rent        0\n",
              "dtype: int64"
            ]
          },
          "metadata": {
            "tags": []
          },
          "execution_count": 5
        }
      ]
    },
    {
      "cell_type": "markdown",
      "metadata": {
        "id": "C9uTd1hRDHfB"
      },
      "source": [
        "### Replacing null values with median"
      ]
    },
    {
      "cell_type": "code",
      "metadata": {
        "id": "geGxQKI7DDuy",
        "outputId": "ec70f5d6-a59a-43aa-9376-4674ac57c520",
        "colab": {
          "base_uri": "https://localhost:8080/",
          "height": 34
        }
      },
      "source": [
        "median = df.Bedrooms.median()\n",
        "median"
      ],
      "execution_count": 6,
      "outputs": [
        {
          "output_type": "execute_result",
          "data": {
            "text/plain": [
              "3.0"
            ]
          },
          "metadata": {
            "tags": []
          },
          "execution_count": 6
        }
      ]
    },
    {
      "cell_type": "code",
      "metadata": {
        "id": "4GfDlJh5DKwp",
        "outputId": "1c4463db-9c17-4c4b-9901-ac0ef0f2d3e5",
        "colab": {
          "base_uri": "https://localhost:8080/",
          "height": 1000
        }
      },
      "source": [
        "df.Bedrooms = df.Bedrooms.fillna(int(median))\n",
        "print(\"Dataframe after replacing the null values :\\n\")\n",
        "df"
      ],
      "execution_count": 7,
      "outputs": [
        {
          "output_type": "stream",
          "text": [
            "Dataframe after replacing the null values :\n",
            "\n"
          ],
          "name": "stdout"
        },
        {
          "output_type": "execute_result",
          "data": {
            "text/html": [
              "<div>\n",
              "<style scoped>\n",
              "    .dataframe tbody tr th:only-of-type {\n",
              "        vertical-align: middle;\n",
              "    }\n",
              "\n",
              "    .dataframe tbody tr th {\n",
              "        vertical-align: top;\n",
              "    }\n",
              "\n",
              "    .dataframe thead th {\n",
              "        text-align: right;\n",
              "    }\n",
              "</style>\n",
              "<table border=\"1\" class=\"dataframe\">\n",
              "  <thead>\n",
              "    <tr style=\"text-align: right;\">\n",
              "      <th></th>\n",
              "      <th>Area</th>\n",
              "      <th>Bedrooms</th>\n",
              "      <th>Age</th>\n",
              "      <th>Rent</th>\n",
              "    </tr>\n",
              "  </thead>\n",
              "  <tbody>\n",
              "    <tr>\n",
              "      <th>0</th>\n",
              "      <td>1024</td>\n",
              "      <td>3.0</td>\n",
              "      <td>15</td>\n",
              "      <td>11200</td>\n",
              "    </tr>\n",
              "    <tr>\n",
              "      <th>1</th>\n",
              "      <td>1200</td>\n",
              "      <td>4.0</td>\n",
              "      <td>10</td>\n",
              "      <td>33650</td>\n",
              "    </tr>\n",
              "    <tr>\n",
              "      <th>2</th>\n",
              "      <td>800</td>\n",
              "      <td>2.0</td>\n",
              "      <td>5</td>\n",
              "      <td>8000</td>\n",
              "    </tr>\n",
              "    <tr>\n",
              "      <th>3</th>\n",
              "      <td>674</td>\n",
              "      <td>2.0</td>\n",
              "      <td>10</td>\n",
              "      <td>6120</td>\n",
              "    </tr>\n",
              "    <tr>\n",
              "      <th>4</th>\n",
              "      <td>766</td>\n",
              "      <td>2.0</td>\n",
              "      <td>11</td>\n",
              "      <td>6000</td>\n",
              "    </tr>\n",
              "    <tr>\n",
              "      <th>5</th>\n",
              "      <td>680</td>\n",
              "      <td>3.0</td>\n",
              "      <td>36</td>\n",
              "      <td>3200</td>\n",
              "    </tr>\n",
              "    <tr>\n",
              "      <th>6</th>\n",
              "      <td>750</td>\n",
              "      <td>3.0</td>\n",
              "      <td>10</td>\n",
              "      <td>3500</td>\n",
              "    </tr>\n",
              "    <tr>\n",
              "      <th>7</th>\n",
              "      <td>900</td>\n",
              "      <td>3.0</td>\n",
              "      <td>20</td>\n",
              "      <td>3345</td>\n",
              "    </tr>\n",
              "    <tr>\n",
              "      <th>8</th>\n",
              "      <td>967</td>\n",
              "      <td>3.0</td>\n",
              "      <td>23</td>\n",
              "      <td>3100</td>\n",
              "    </tr>\n",
              "    <tr>\n",
              "      <th>9</th>\n",
              "      <td>720</td>\n",
              "      <td>3.0</td>\n",
              "      <td>7</td>\n",
              "      <td>6200</td>\n",
              "    </tr>\n",
              "    <tr>\n",
              "      <th>10</th>\n",
              "      <td>850</td>\n",
              "      <td>4.0</td>\n",
              "      <td>16</td>\n",
              "      <td>7820</td>\n",
              "    </tr>\n",
              "    <tr>\n",
              "      <th>11</th>\n",
              "      <td>1033</td>\n",
              "      <td>4.0</td>\n",
              "      <td>2</td>\n",
              "      <td>37020</td>\n",
              "    </tr>\n",
              "    <tr>\n",
              "      <th>12</th>\n",
              "      <td>1050</td>\n",
              "      <td>3.0</td>\n",
              "      <td>6</td>\n",
              "      <td>33260</td>\n",
              "    </tr>\n",
              "    <tr>\n",
              "      <th>13</th>\n",
              "      <td>1120</td>\n",
              "      <td>4.0</td>\n",
              "      <td>30</td>\n",
              "      <td>10500</td>\n",
              "    </tr>\n",
              "    <tr>\n",
              "      <th>14</th>\n",
              "      <td>839</td>\n",
              "      <td>2.0</td>\n",
              "      <td>24</td>\n",
              "      <td>3400</td>\n",
              "    </tr>\n",
              "    <tr>\n",
              "      <th>15</th>\n",
              "      <td>921</td>\n",
              "      <td>3.0</td>\n",
              "      <td>18</td>\n",
              "      <td>5000</td>\n",
              "    </tr>\n",
              "    <tr>\n",
              "      <th>16</th>\n",
              "      <td>671</td>\n",
              "      <td>2.0</td>\n",
              "      <td>12</td>\n",
              "      <td>2400</td>\n",
              "    </tr>\n",
              "    <tr>\n",
              "      <th>17</th>\n",
              "      <td>953</td>\n",
              "      <td>3.0</td>\n",
              "      <td>36</td>\n",
              "      <td>2720</td>\n",
              "    </tr>\n",
              "    <tr>\n",
              "      <th>18</th>\n",
              "      <td>871</td>\n",
              "      <td>3.0</td>\n",
              "      <td>12</td>\n",
              "      <td>3100</td>\n",
              "    </tr>\n",
              "    <tr>\n",
              "      <th>19</th>\n",
              "      <td>933</td>\n",
              "      <td>3.0</td>\n",
              "      <td>10</td>\n",
              "      <td>2950</td>\n",
              "    </tr>\n",
              "    <tr>\n",
              "      <th>20</th>\n",
              "      <td>1066</td>\n",
              "      <td>4.0</td>\n",
              "      <td>3</td>\n",
              "      <td>29820</td>\n",
              "    </tr>\n",
              "    <tr>\n",
              "      <th>21</th>\n",
              "      <td>1080</td>\n",
              "      <td>3.0</td>\n",
              "      <td>10</td>\n",
              "      <td>9890</td>\n",
              "    </tr>\n",
              "    <tr>\n",
              "      <th>22</th>\n",
              "      <td>825</td>\n",
              "      <td>3.0</td>\n",
              "      <td>5</td>\n",
              "      <td>6300</td>\n",
              "    </tr>\n",
              "    <tr>\n",
              "      <th>23</th>\n",
              "      <td>795</td>\n",
              "      <td>3.0</td>\n",
              "      <td>13</td>\n",
              "      <td>5960</td>\n",
              "    </tr>\n",
              "    <tr>\n",
              "      <th>24</th>\n",
              "      <td>930</td>\n",
              "      <td>2.0</td>\n",
              "      <td>11</td>\n",
              "      <td>4890</td>\n",
              "    </tr>\n",
              "    <tr>\n",
              "      <th>25</th>\n",
              "      <td>1128</td>\n",
              "      <td>4.0</td>\n",
              "      <td>21</td>\n",
              "      <td>9500</td>\n",
              "    </tr>\n",
              "    <tr>\n",
              "      <th>26</th>\n",
              "      <td>1154</td>\n",
              "      <td>3.0</td>\n",
              "      <td>27</td>\n",
              "      <td>9230</td>\n",
              "    </tr>\n",
              "    <tr>\n",
              "      <th>27</th>\n",
              "      <td>1047</td>\n",
              "      <td>3.0</td>\n",
              "      <td>50</td>\n",
              "      <td>6322</td>\n",
              "    </tr>\n",
              "    <tr>\n",
              "      <th>28</th>\n",
              "      <td>877</td>\n",
              "      <td>2.0</td>\n",
              "      <td>40</td>\n",
              "      <td>1020</td>\n",
              "    </tr>\n",
              "    <tr>\n",
              "      <th>29</th>\n",
              "      <td>890</td>\n",
              "      <td>3.0</td>\n",
              "      <td>28</td>\n",
              "      <td>2300</td>\n",
              "    </tr>\n",
              "    <tr>\n",
              "      <th>30</th>\n",
              "      <td>857</td>\n",
              "      <td>2.0</td>\n",
              "      <td>17</td>\n",
              "      <td>3680</td>\n",
              "    </tr>\n",
              "    <tr>\n",
              "      <th>31</th>\n",
              "      <td>956</td>\n",
              "      <td>2.0</td>\n",
              "      <td>25</td>\n",
              "      <td>7500</td>\n",
              "    </tr>\n",
              "    <tr>\n",
              "      <th>32</th>\n",
              "      <td>970</td>\n",
              "      <td>3.0</td>\n",
              "      <td>31</td>\n",
              "      <td>7450</td>\n",
              "    </tr>\n",
              "    <tr>\n",
              "      <th>33</th>\n",
              "      <td>928</td>\n",
              "      <td>2.0</td>\n",
              "      <td>14</td>\n",
              "      <td>8900</td>\n",
              "    </tr>\n",
              "    <tr>\n",
              "      <th>34</th>\n",
              "      <td>781</td>\n",
              "      <td>3.0</td>\n",
              "      <td>8</td>\n",
              "      <td>4920</td>\n",
              "    </tr>\n",
              "    <tr>\n",
              "      <th>35</th>\n",
              "      <td>760</td>\n",
              "      <td>3.0</td>\n",
              "      <td>4</td>\n",
              "      <td>5120</td>\n",
              "    </tr>\n",
              "    <tr>\n",
              "      <th>36</th>\n",
              "      <td>658</td>\n",
              "      <td>2.0</td>\n",
              "      <td>1</td>\n",
              "      <td>3990</td>\n",
              "    </tr>\n",
              "    <tr>\n",
              "      <th>37</th>\n",
              "      <td>993</td>\n",
              "      <td>4.0</td>\n",
              "      <td>2</td>\n",
              "      <td>10900</td>\n",
              "    </tr>\n",
              "    <tr>\n",
              "      <th>38</th>\n",
              "      <td>890</td>\n",
              "      <td>2.0</td>\n",
              "      <td>9</td>\n",
              "      <td>4980</td>\n",
              "    </tr>\n",
              "    <tr>\n",
              "      <th>39</th>\n",
              "      <td>1025</td>\n",
              "      <td>3.0</td>\n",
              "      <td>5</td>\n",
              "      <td>19000</td>\n",
              "    </tr>\n",
              "  </tbody>\n",
              "</table>\n",
              "</div>"
            ],
            "text/plain": [
              "    Area  Bedrooms  Age   Rent\n",
              "0   1024       3.0   15  11200\n",
              "1   1200       4.0   10  33650\n",
              "2    800       2.0    5   8000\n",
              "3    674       2.0   10   6120\n",
              "4    766       2.0   11   6000\n",
              "5    680       3.0   36   3200\n",
              "6    750       3.0   10   3500\n",
              "7    900       3.0   20   3345\n",
              "8    967       3.0   23   3100\n",
              "9    720       3.0    7   6200\n",
              "10   850       4.0   16   7820\n",
              "11  1033       4.0    2  37020\n",
              "12  1050       3.0    6  33260\n",
              "13  1120       4.0   30  10500\n",
              "14   839       2.0   24   3400\n",
              "15   921       3.0   18   5000\n",
              "16   671       2.0   12   2400\n",
              "17   953       3.0   36   2720\n",
              "18   871       3.0   12   3100\n",
              "19   933       3.0   10   2950\n",
              "20  1066       4.0    3  29820\n",
              "21  1080       3.0   10   9890\n",
              "22   825       3.0    5   6300\n",
              "23   795       3.0   13   5960\n",
              "24   930       2.0   11   4890\n",
              "25  1128       4.0   21   9500\n",
              "26  1154       3.0   27   9230\n",
              "27  1047       3.0   50   6322\n",
              "28   877       2.0   40   1020\n",
              "29   890       3.0   28   2300\n",
              "30   857       2.0   17   3680\n",
              "31   956       2.0   25   7500\n",
              "32   970       3.0   31   7450\n",
              "33   928       2.0   14   8900\n",
              "34   781       3.0    8   4920\n",
              "35   760       3.0    4   5120\n",
              "36   658       2.0    1   3990\n",
              "37   993       4.0    2  10900\n",
              "38   890       2.0    9   4980\n",
              "39  1025       3.0    5  19000"
            ]
          },
          "metadata": {
            "tags": []
          },
          "execution_count": 7
        }
      ]
    },
    {
      "cell_type": "markdown",
      "metadata": {
        "id": "sUQO2NZyDRZN"
      },
      "source": [
        "## 4. Building the machine learning model"
      ]
    },
    {
      "cell_type": "code",
      "metadata": {
        "id": "6HMWZQ3iDNDQ"
      },
      "source": [
        "from sklearn.linear_model import LinearRegression\n",
        "from sklearn.model_selection import train_test_split\n",
        "reg = LinearRegression()"
      ],
      "execution_count": 8,
      "outputs": []
    },
    {
      "cell_type": "code",
      "metadata": {
        "id": "GIcM6YDCDUBM",
        "outputId": "4739e96a-b079-4b7a-b40e-d42a229aa3f0",
        "colab": {
          "base_uri": "https://localhost:8080/",
          "height": 34
        }
      },
      "source": [
        "reg.fit(df[['Area','Bedrooms','Age']],df.Rent)"
      ],
      "execution_count": 9,
      "outputs": [
        {
          "output_type": "execute_result",
          "data": {
            "text/plain": [
              "LinearRegression(copy_X=True, fit_intercept=True, n_jobs=None, normalize=False)"
            ]
          },
          "metadata": {
            "tags": []
          },
          "execution_count": 9
        }
      ]
    },
    {
      "cell_type": "code",
      "metadata": {
        "id": "S_LZuHiCEy8a",
        "outputId": "412aa0d3-a11b-41c5-c1d4-3d75c7f33079",
        "colab": {
          "base_uri": "https://localhost:8080/",
          "height": 34
        }
      },
      "source": [
        "reg.coef_"
      ],
      "execution_count": 10,
      "outputs": [
        {
          "output_type": "execute_result",
          "data": {
            "text/plain": [
              "array([  34.66745591, 2440.61024394, -354.75983519])"
            ]
          },
          "metadata": {
            "tags": []
          },
          "execution_count": 10
        }
      ]
    },
    {
      "cell_type": "code",
      "metadata": {
        "id": "7ff-2zVfE1N7",
        "outputId": "9bd91228-ffe7-4dcc-dd45-8aab3f42c27e",
        "colab": {
          "base_uri": "https://localhost:8080/",
          "height": 34
        }
      },
      "source": [
        "reg.intercept_"
      ],
      "execution_count": 11,
      "outputs": [
        {
          "output_type": "execute_result",
          "data": {
            "text/plain": [
              "-24001.729279468836"
            ]
          },
          "metadata": {
            "tags": []
          },
          "execution_count": 11
        }
      ]
    },
    {
      "cell_type": "markdown",
      "metadata": {
        "id": "2aXeEpBzJwLu"
      },
      "source": [
        "### Predicted result"
      ]
    },
    {
      "cell_type": "code",
      "metadata": {
        "id": "FvXKBHu9E7Zp",
        "outputId": "19536f15-2c4d-4bb7-da74-3dff46aab04a",
        "colab": {
          "base_uri": "https://localhost:8080/",
          "height": 34
        }
      },
      "source": [
        "reg.predict([[920,3,10]])"
      ],
      "execution_count": 12,
      "outputs": [
        {
          "output_type": "execute_result",
          "data": {
            "text/plain": [
              "array([11666.56253816])"
            ]
          },
          "metadata": {
            "tags": []
          },
          "execution_count": 12
        }
      ]
    },
    {
      "cell_type": "markdown",
      "metadata": {
        "id": "K-zyv_I-J3V9"
      },
      "source": [
        "### Actual result"
      ]
    },
    {
      "cell_type": "code",
      "metadata": {
        "id": "U-bMqIY-J0TY",
        "outputId": "92e1f922-55d6-4181-fac3-d5c3903bd3f0",
        "colab": {
          "base_uri": "https://localhost:8080/",
          "height": 34
        }
      },
      "source": [
        "y = 34.66745591*920+2440.61024394*3+-354.75983519*10+-24001.729279468844\n",
        "y"
      ],
      "execution_count": 13,
      "outputs": [
        {
          "output_type": "execute_result",
          "data": {
            "text/plain": [
              "11666.562537651156"
            ]
          },
          "metadata": {
            "tags": []
          },
          "execution_count": 13
        }
      ]
    },
    {
      "cell_type": "code",
      "metadata": {
        "id": "E52b1cUXJ60W",
        "outputId": "febafe09-0079-4d67-fb8b-126845c83bac",
        "colab": {
          "base_uri": "https://localhost:8080/",
          "height": 34
        }
      },
      "source": [
        "r = 100 - (y-reg.predict([[920,3,10]]))\n",
        "print(\"Accuracy of model = \",int(r),\"%\")"
      ],
      "execution_count": 14,
      "outputs": [
        {
          "output_type": "stream",
          "text": [
            "Accuracy of model =  100 %\n"
          ],
          "name": "stdout"
        }
      ]
    },
    {
      "cell_type": "code",
      "metadata": {
        "id": "v3uCaIUGJ-KU"
      },
      "source": [
        "x = df.iloc[:,0].values.reshape(-1,1)\n",
        "x1 = df.iloc[:,1].values.reshape(-1,1)\n",
        "x2 = df.iloc[:,2].values.reshape(-1,1)\n",
        "y = df.iloc[:,-1].values"
      ],
      "execution_count": 15,
      "outputs": []
    },
    {
      "cell_type": "code",
      "metadata": {
        "id": "ISFK_xgDKAiG"
      },
      "source": [
        "x_train,x_test,y_train,y_test = train_test_split(x,y,test_size=1/4,random_state=0)\n",
        "x1_train,x1_test,y_train,y_test = train_test_split(x1,y,test_size=1/4,random_state=0)\n",
        "x2_train,x2_test,y_train,y_test = train_test_split(x2,y,test_size=1/4,random_state=0)"
      ],
      "execution_count": 16,
      "outputs": []
    },
    {
      "cell_type": "code",
      "metadata": {
        "id": "BoZYZ-7bKE6d",
        "outputId": "c8a3602d-cb4b-48c8-ed44-e38a816957d2",
        "colab": {
          "base_uri": "https://localhost:8080/",
          "height": 34
        }
      },
      "source": [
        "reg.fit(x_train,y_train)\n",
        "reg.fit(x1_train,y_train)\n",
        "reg.fit(x2_train,y_train)"
      ],
      "execution_count": 17,
      "outputs": [
        {
          "output_type": "execute_result",
          "data": {
            "text/plain": [
              "LinearRegression(copy_X=True, fit_intercept=True, n_jobs=None, normalize=False)"
            ]
          },
          "metadata": {
            "tags": []
          },
          "execution_count": 17
        }
      ]
    },
    {
      "cell_type": "code",
      "metadata": {
        "id": "7Ltj-PWuKHwp"
      },
      "source": [
        "y_pred = reg.predict(x_test)\n",
        "y_pred = reg.predict(x1_test)\n",
        "y_pred = reg.predict(x2_test)"
      ],
      "execution_count": 18,
      "outputs": []
    },
    {
      "cell_type": "code",
      "metadata": {
        "id": "AccRMMIZKKK-",
        "outputId": "e0607ad1-7c30-412d-afa8-41a7deea4822",
        "colab": {
          "base_uri": "https://localhost:8080/",
          "height": 1000
        }
      },
      "source": [
        "plt.figure(figsize=(25,20))\n",
        "plt.subplot(3,2,1)\n",
        "plt.scatter(x_train,y_train,c='k')\n",
        "plt.plot(x_train,reg.predict(x_train),color='blue')\n",
        "plt.xlabel('Area of house',size=18)\n",
        "plt.ylabel('Rent of house',size=18)\n",
        "plt.title('House Rent Prediction (Training set) \\n',size=24)\n",
        "\n",
        "plt.subplot(3,2,2)\n",
        "plt.scatter(x_test,y_test,c='k')\n",
        "plt.plot(x_train,reg.predict(x_train),color='blue')\n",
        "plt.xlabel('Area of house',size=18)\n",
        "plt.ylabel('Rent of house',size=18)\n",
        "plt.title('House Rent Prediction (Test set) \\n',size=24)\n",
        "\n",
        "plt.subplot(3,2,3)\n",
        "plt.scatter(x1_train,y_train,c='k')\n",
        "plt.plot(x1_train,reg.predict(x1_train),color='green')\n",
        "plt.xlabel('Bedrooms',size=18)\n",
        "plt.ylabel('Rent of house',size=18)\n",
        "\n",
        "plt.subplot(3,2,4)\n",
        "plt.scatter(x1_test,y_test,c='k')\n",
        "plt.plot(x1_train,reg.predict(x1_train),color='green')\n",
        "plt.xlabel('Bedrooms',size=18)\n",
        "plt.ylabel('Rent of house',size=18)\n",
        "\n",
        "plt.subplot(3,2,5)\n",
        "plt.scatter(x2_train,y_train,c='k')\n",
        "plt.plot(x2_train,reg.predict(x2_train),color='red')\n",
        "plt.xlabel('Age of house',size=18)\n",
        "plt.ylabel('Rent of house',size=18)\n",
        "\n",
        "plt.subplot(3,2,6)\n",
        "plt.scatter(x2_test,y_test,c='k')\n",
        "plt.plot(x2_train,reg.predict(x2_train),color='red')\n",
        "plt.xlabel('Age of house',size=18)\n",
        "plt.ylabel('Rent of house',size=18)\n",
        "\n",
        "plt.show()"
      ],
      "execution_count": 19,
      "outputs": [
        {
          "output_type": "display_data",
          "data": {
            "image/png": "[encoded data removed]",
            "text/plain": [
              "<Figure size 1800x1440 with 6 Axes>"
            ]
          },
          "metadata": {
            "tags": [],
            "needs_background": "light"
          }
        }
      ]
    },
    {
      "cell_type": "markdown",
      "metadata": {
        "id": "3GrhbR30KVtc"
      },
      "source": [
        "## In this exercise, we have got a large negative intercept. As the coefficient of house area is quite small, hence the slope is tending towards the negative direction, resulting in production of a negative scale of values."
      ]
    },
    {
      "cell_type": "markdown",
      "metadata": {
        "id": "rzikZnGoKVir"
      },
      "source": [
        "### From the graphs, we can also say that the house rent mostly depends on the age of the house and has almost linearly decreasing relation with age of house. This suggests as the age of house increases, its cost decreases"
      ]
    },
    {
      "cell_type": "markdown",
      "metadata": {
        "id": "hCczyxHXKggs"
      },
      "source": [
        "## Pros and Cons of Multivariate Regression"
      ]
    },
    {
      "cell_type": "markdown",
      "metadata": {
        "id": "J1t5RKBaKjWH"
      },
      "source": [
        "## Pros or Advantages\n",
        "### 1.Multiple factors can be fed into the model and analysed in one go\n",
        "### 2.Works quite fast with most datasets\n",
        "### 3.More realistic than linear regression\n",
        "<hr>\n",
        "\n",
        "\n",
        "## Cons or Disadvantages\n",
        "### 1.If there is a heirarchical dependence for more than 2 independent parameters, like x depends on y and y depends on z, then it would be difficult to plot such values and demonstrate regressions in a single plot.\n",
        "### 2.Not suitable for very big datasets of size 10 million or more\n",
        "### 3.Like linear regression, it cannot predict special mathematical patterns\n"
      ]
    },
    {
      "cell_type": "code",
      "metadata": {
        "id": "_a9kCl9QLKdn"
      },
      "source": [
        ""
      ],
      "execution_count": null,
      "outputs": []
    }
  ]
}
